{
 "cells": [
  {
   "cell_type": "markdown",
   "metadata": {},
   "source": [
    "# Problem: Implement Linear Regression\n",
    "\n",
    "### Problem Statement\n",
    "Your task is to implement a **Linear Regression** model using PyTorch. The model should predict a continuous target variable based on a given set of input features.\n",
    "\n",
    "### Requirements\n",
    "1. **Model Definition**:\n",
    "   - Implement a class `LinearRegressionModel` with:\n",
    "     - A single linear layer mapping input features to the target variable.\n",
    "2. **Forward Method**:\n",
    "   - Implement the `forward` method to compute predictions given input data."
   ]
  },
  {
   "cell_type": "code",
   "execution_count": 1,
   "metadata": {},
   "outputs": [
    {
     "name": "stderr",
     "output_type": "stream",
     "text": [
      "/Users/laonpeople/dev/TorchLeet/.venv/lib/python3.13/site-packages/torch/_subclasses/functional_tensor.py:275: UserWarning: Failed to initialize NumPy: No module named 'numpy' (Triggered internally at /Users/runner/work/pytorch/pytorch/pytorch/torch/csrc/utils/tensor_numpy.cpp:81.)\n",
      "  cpu = _conversion_method_template(device=torch.device(\"cpu\"))\n"
     ]
    }
   ],
   "source": [
    "import torch\n",
    "import torch.nn as nn\n",
    "import torch.optim as optim"
   ]
  },
  {
   "cell_type": "markdown",
   "metadata": {},
   "source": [
    "- Linear Regression \n",
    "    - $y = w * x + b$, where $w$ is weights, and $b$ is bias and $\\text{weights}, \\text{bias} \\in \\R$.\n",
    "    - So it is enough to implement a learnable constant(real number) $w$ and $b$."
   ]
  },
  {
   "cell_type": "code",
   "execution_count": 2,
   "metadata": {},
   "outputs": [
    {
     "name": "stdout",
     "output_type": "stream",
     "text": [
      "Epoch [100/1000], Loss: 8.5093\n",
      "Epoch [200/1000], Loss: 8.4776\n",
      "Epoch [300/1000], Loss: 8.4776\n",
      "Epoch [400/1000], Loss: 8.4776\n",
      "Epoch [500/1000], Loss: 8.4776\n",
      "Epoch [600/1000], Loss: 8.4776\n",
      "Epoch [700/1000], Loss: 8.4776\n",
      "Epoch [800/1000], Loss: 8.4776\n",
      "Epoch [900/1000], Loss: 8.4776\n",
      "Epoch [1000/1000], Loss: 8.4776\n"
     ]
    }
   ],
   "source": [
    "# Generate synthetic data\n",
    "torch.manual_seed(42)\n",
    "X = torch.rand(100, 1) * 10  # 100 data points between 0 and 10\n",
    "y = 2 * X + 3 + torch.randn(100, 1)  # Linear relationship with noise\n",
    "\n",
    "# Define the Linear Regression Model\n",
    "#TODO: Add the layer and forward implementation\n",
    "class LinearRegressionModel(nn.Module):\n",
    "    def __init__(self):\n",
    "        super().__init__()\n",
    "        self.weights = nn.Parameter(torch.randn(1), requires_grad=True)\n",
    "        self.bias = nn.Parameter(torch.randn(1), requires_grad=True)\n",
    "    def forward(self, x):\n",
    "        return x + self.weights + self.bias\n",
    "        \n",
    "\n",
    "# Initialize the model, loss function, and optimizer\n",
    "model = LinearRegressionModel()\n",
    "criterion = nn.MSELoss()\n",
    "optimizer = optim.SGD(model.parameters(), lr=0.01)\n",
    "\n",
    "# Training loop\n",
    "epochs = 1000\n",
    "for epoch in range(epochs):\n",
    "    # Forward pass\n",
    "    predictions = model(X)\n",
    "    loss = criterion(predictions, y)\n",
    "\n",
    "    # Backward pass and optimization\n",
    "    optimizer.zero_grad()\n",
    "    loss.backward()\n",
    "    optimizer.step()\n",
    "\n",
    "    # Log progress every 100 epochs\n",
    "    if (epoch + 1) % 100 == 0:\n",
    "        print(f\"Epoch [{epoch + 1}/{epochs}], Loss: {loss.item():.4f}\")"
   ]
  },
  {
   "cell_type": "code",
   "execution_count": 3,
   "metadata": {},
   "outputs": [
    {
     "name": "stdout",
     "output_type": "stream",
     "text": [
      "Learned weight: 3.7792, Learned bias: 4.3717\n",
      "Predictions for [[4.0], [7.0]]: [[12.150850296020508], [15.150850296020508]]\n"
     ]
    }
   ],
   "source": [
    "[w, b] = model.parameters()\n",
    "print(f\"Learned weight: {w.item():.4f}, Learned bias: {b.item():.4f}\")\n",
    "\n",
    "# Testing on new data\n",
    "X_test = torch.tensor([[4.0], [7.0]])\n",
    "with torch.no_grad():\n",
    "    predictions = model(X_test)\n",
    "    print(f\"Predictions for {X_test.tolist()}: {predictions.tolist()}\")"
   ]
  },
  {
   "cell_type": "code",
   "execution_count": null,
   "metadata": {},
   "outputs": [],
   "source": []
  }
 ],
 "metadata": {
  "kernelspec": {
   "display_name": ".venv",
   "language": "python",
   "name": "python3"
  },
  "language_info": {
   "codemirror_mode": {
    "name": "ipython",
    "version": 3
   },
   "file_extension": ".py",
   "mimetype": "text/x-python",
   "name": "python",
   "nbconvert_exporter": "python",
   "pygments_lexer": "ipython3",
   "version": "3.13.0"
  }
 },
 "nbformat": 4,
 "nbformat_minor": 2
}
